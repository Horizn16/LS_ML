{
 "cells": [
  {
   "cell_type": "code",
   "execution_count": 12,
   "id": "7fa38fd3",
   "metadata": {},
   "outputs": [],
   "source": [
    "from sklearn.feature_extraction.text import CountVectorizer, TfidfVectorizer\n",
    "import math\n",
    "import pandas as pd"
   ]
  },
  {
   "cell_type": "code",
   "execution_count": 8,
   "id": "b03b4312",
   "metadata": {},
   "outputs": [],
   "source": [
    "corpus = [\n",
    "    'the sun is a star',\n",
    "    'the moon is a satellite',\n",
    "    'the sun and moon are celestial bodies'\n",
    "]\n",
    "\n",
    "class TFIDF():\n",
    "    def __init__(self,corpus):\n",
    "        self.corpus=corpus\n",
    "        \n",
    "    def td(self, term, doc):\n",
    "        \"\"\"\n",
    "        This is the term frequency calculation\n",
    "        TF(word) = (Number of times word appears in document) / (Total words in document)\n",
    "        \"\"\"\n",
    "        term_cnt=0\n",
    "        word_cnt=0\n",
    "        words=doc.split(\" \")\n",
    "        for i in words:\n",
    "            word_cnt+=1\n",
    "            if i==term:\n",
    "                term_cnt+=1\n",
    "        return term_cnt/word_cnt\n",
    "\n",
    "\n",
    "    def idf(self,term):\n",
    "        \"\"\"\n",
    "        Inverse document frequency calculation.\n",
    "        IDF(word) = log(Total number of documents / Number of documents containing the word)\n",
    "        \"\"\"\n",
    "        res=0\n",
    "        for i in corpus:\n",
    "            if term in i:\n",
    "                res+=1\n",
    "        return math.log(len(corpus)/res)\n",
    "\n",
    "    def tf_idf(self , term , doc ):\n",
    "        return self.td(term, doc) * self.idf(term)\n",
    "\n"
   ]
  },
  {
   "cell_type": "code",
   "execution_count": 10,
   "id": "9821470c",
   "metadata": {},
   "outputs": [
    {
     "data": {
      "text/plain": [
       "0.08109302162163289"
      ]
     },
     "execution_count": 10,
     "metadata": {},
     "output_type": "execute_result"
    }
   ],
   "source": [
    "tfidf=TFIDF(corpus)\n",
    "tfidf.tf_idf(\"sun\",corpus[0])"
   ]
  },
  {
   "cell_type": "code",
   "execution_count": 13,
   "id": "b6c08bec",
   "metadata": {},
   "outputs": [
    {
     "name": "stdout",
     "output_type": "stream",
     "text": [
      "Manual TF-IDF:\n",
      "    the        is       sun      star         a      moon  satellite    bodies  \\\n",
      "0  0.0  0.081093  0.081093  0.219722  0.081093  0.000000   0.000000  0.000000   \n",
      "1  0.0  0.081093  0.000000  0.000000  0.081093  0.081093   0.219722  0.000000   \n",
      "2  0.0  0.000000  0.057924  0.000000  0.000000  0.057924   0.000000  0.156945   \n",
      "\n",
      "   celestial       are       and  \n",
      "0   0.000000  0.000000  0.000000  \n",
      "1   0.000000  0.000000  0.000000  \n",
      "2   0.156945  0.156945  0.156945  \n",
      "\n",
      "CountVectorizer:\n",
      "    and  are  bodies  celestial  is  moon  satellite  star  sun  the\n",
      "0    0    0       0          0   1     0          0     1    1    1\n",
      "1    0    0       0          0   1     1          1     0    0    1\n",
      "2    1    1       1          1   0     1          0     0    1    1\n",
      "\n",
      "TfidfVectorizer:\n",
      "         and       are    bodies  celestial        is      moon  satellite  \\\n",
      "0  0.000000  0.000000  0.000000   0.000000  0.480458  0.000000   0.000000   \n",
      "1  0.000000  0.000000  0.000000   0.000000  0.480458  0.480458   0.631745   \n",
      "2  0.426184  0.426184  0.426184   0.426184  0.000000  0.324124   0.000000   \n",
      "\n",
      "       star       sun       the  \n",
      "0  0.631745  0.480458  0.373119  \n",
      "1  0.000000  0.000000  0.373119  \n",
      "2  0.000000  0.324124  0.251711  \n"
     ]
    }
   ],
   "source": [
    "from sklearn.feature_extraction.text import CountVectorizer, TfidfVectorizer\n",
    "import math\n",
    "import pandas as pd\n",
    "\n",
    "# Manual TF-IDF implementation\n",
    "class ManualTFIDF:\n",
    "    def __init__(self, corpus):\n",
    "        self.corpus = corpus\n",
    "        self.tf = self.compute_tf()\n",
    "        self.idf = self.compute_idf()\n",
    "\n",
    "    def compute_tf(self):\n",
    "        tf_list = []\n",
    "        for doc in self.corpus:\n",
    "            words = doc.split()\n",
    "            tf = {word: words.count(word) / len(words) for word in set(words)}\n",
    "            tf_list.append(tf)\n",
    "        return tf_list\n",
    "\n",
    "    def compute_idf(self):\n",
    "        N = len(self.corpus)\n",
    "        idf = {}\n",
    "        all_words = set(word for doc in self.corpus for word in doc.split())\n",
    "        for word in all_words:\n",
    "            containing = sum(1 for doc in self.corpus if word in doc.split())\n",
    "            idf[word] = math.log(N / containing)\n",
    "        return idf\n",
    "\n",
    "    def compute_tfidf(self):\n",
    "        tfidf = []\n",
    "        for doc_tf in self.tf:\n",
    "            tfidf_doc = {word: doc_tf[word] * self.idf[word] for word in doc_tf}\n",
    "            tfidf.append(tfidf_doc)\n",
    "        return tfidf\n",
    "\n",
    "manual_tfidf = ManualTFIDF(corpus).compute_tfidf()\n",
    "manual_df = pd.DataFrame(manual_tfidf).fillna(0)\n",
    "print(\"Manual TF-IDF:\\n\", manual_df)\n",
    "\n",
    "# CountVectorizer\n",
    "cv = CountVectorizer()\n",
    "cv_matrix = cv.fit_transform(corpus)\n",
    "cv_df = pd.DataFrame(cv_matrix.toarray(), columns=cv.get_feature_names_out())\n",
    "print(\"\\nCountVectorizer:\\n\", cv_df)\n",
    "\n",
    "# TfidfVectorizer\n",
    "tfidf_vec = TfidfVectorizer()\n",
    "tfidf_matrix = tfidf_vec.fit_transform(corpus)\n",
    "tfidf_df = pd.DataFrame(tfidf_matrix.toarray(), columns=tfidf_vec.get_feature_names_out())\n",
    "print(\"\\nTfidfVectorizer:\\n\", tfidf_df)"
   ]
  },
  {
   "cell_type": "markdown",
   "id": "172e3577",
   "metadata": {},
   "source": []
  }
 ],
 "metadata": {
  "kernelspec": {
   "display_name": "base",
   "language": "python",
   "name": "python3"
  },
  "language_info": {
   "codemirror_mode": {
    "name": "ipython",
    "version": 3
   },
   "file_extension": ".py",
   "mimetype": "text/x-python",
   "name": "python",
   "nbconvert_exporter": "python",
   "pygments_lexer": "ipython3",
   "version": "3.12.2"
  }
 },
 "nbformat": 4,
 "nbformat_minor": 5
}
